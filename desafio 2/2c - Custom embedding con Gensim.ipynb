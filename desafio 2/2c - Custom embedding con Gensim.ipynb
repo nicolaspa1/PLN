{
 "cells": [
  {
   "cell_type": "markdown",
   "metadata": {
    "id": "sZd5yLnnHOK0"
   },
   "source": [
    "<img src=\"https://github.com/hernancontigiani/ceia_memorias_especializacion/raw/master/Figures/logoFIUBA.jpg\" width=\"500\" align=\"center\">\n",
    "\n",
    "\n",
    "# Procesamiento de lenguaje natural\n",
    "## Custom embedddings con Gensim\n",
    "\n"
   ]
  },
  {
   "cell_type": "markdown",
   "metadata": {
    "id": "vA7nqkumo9z9"
   },
   "source": [
    "### Objetivo\n",
    "El objetivo es utilizar documentos / corpus para crear embeddings de palabras basado en ese contexto. Se utilizará canciones de bandas para generar los embeddings, es decir, que los vectores tendrán la forma en función de como esa banda haya utilizado las palabras en sus canciones."
   ]
  },
  {
   "cell_type": "code",
   "metadata": {
    "id": "lFToQs5FK5uZ",
    "ExecuteTime": {
     "end_time": "2025-06-19T19:59:10.128386Z",
     "start_time": "2025-06-19T19:57:42.570410Z"
    }
   },
   "source": [
    "%pip install gensim pandas matplotlib seaborn scikit-learn plotly tensorflow nltk\n",
    "import pandas as pd\n",
    "import matplotlib.pyplot as plt\n",
    "import seaborn as sns\n",
    "import numpy as np\n",
    "import os\n",
    "import platform\n",
    "import multiprocessing\n",
    "from gensim.models import Word2Vec\n",
    "from gensim.models.callbacks import CallbackAny2Vec\n",
    "from sklearn.decomposition import PCA\n",
    "from sklearn.manifold import TSNE\n",
    "import plotly.graph_objects as go\n",
    "import plotly.express as px\n",
    "from tensorflow.keras.preprocessing.text import text_to_word_sequence\n",
    "\n",
    "print(\"Librerías importadas exitosamente\")\n"
   ],
   "outputs": [
    {
     "name": "stdout",
     "output_type": "stream",
     "text": [
      "Defaulting to user installation because normal site-packages is not writeable\r\n",
      "Collecting gensim\r\n",
      "  Downloading gensim-4.3.3-cp39-cp39-macosx_11_0_arm64.whl (24.0 MB)\r\n",
      "\u001B[K     |████████████████████████████████| 24.0 MB 8.1 MB/s eta 0:00:01\r\n",
      "\u001B[?25hRequirement already satisfied: pandas in /Users/nicolas/Library/Python/3.9/lib/python/site-packages (2.3.0)\r\n",
      "Requirement already satisfied: matplotlib in /Users/nicolas/Library/Python/3.9/lib/python/site-packages (3.9.4)\r\n",
      "Collecting seaborn\r\n",
      "  Downloading seaborn-0.13.2-py3-none-any.whl (294 kB)\r\n",
      "\u001B[K     |████████████████████████████████| 294 kB 872 kB/s eta 0:00:01\r\n",
      "\u001B[?25hRequirement already satisfied: scikit-learn in /Users/nicolas/Library/Python/3.9/lib/python/site-packages (1.6.1)\r\n",
      "Collecting plotly\r\n",
      "  Downloading plotly-6.1.2-py3-none-any.whl (16.3 MB)\r\n",
      "\u001B[K     |████████████████████████████████| 16.3 MB 67.0 MB/s eta 0:00:01\r\n",
      "\u001B[?25hCollecting tensorflow\r\n",
      "  Downloading tensorflow-2.19.0-cp39-cp39-macosx_12_0_arm64.whl (252.5 MB)\r\n",
      "\u001B[K     |████████████████████████████████| 252.5 MB 850 kB/s eta 0:00:013     |███████████████▉                | 124.9 MB 892 kB/s eta 0:02:23\r\n",
      "\u001B[?25hCollecting nltk\r\n",
      "  Downloading nltk-3.9.1-py3-none-any.whl (1.5 MB)\r\n",
      "\u001B[K     |████████████████████████████████| 1.5 MB 3.6 MB/s eta 0:00:01\r\n",
      "\u001B[?25hCollecting numpy<2.0,>=1.18.5\r\n",
      "  Downloading numpy-1.26.4-cp39-cp39-macosx_11_0_arm64.whl (14.0 MB)\r\n",
      "\u001B[K     |████████████████████████████████| 14.0 MB 86.1 MB/s eta 0:00:01\r\n",
      "\u001B[?25hCollecting smart-open>=1.8.1\r\n",
      "  Downloading smart_open-7.1.0-py3-none-any.whl (61 kB)\r\n",
      "\u001B[K     |████████████████████████████████| 61 kB 1.9 MB/s  eta 0:00:01\r\n",
      "\u001B[?25hRequirement already satisfied: scipy<1.14.0,>=1.7.0 in /Users/nicolas/Library/Python/3.9/lib/python/site-packages (from gensim) (1.13.1)\r\n",
      "Requirement already satisfied: python-dateutil>=2.8.2 in /Users/nicolas/Library/Python/3.9/lib/python/site-packages (from pandas) (2.9.0.post0)\r\n",
      "Requirement already satisfied: tzdata>=2022.7 in /Users/nicolas/Library/Python/3.9/lib/python/site-packages (from pandas) (2025.2)\r\n",
      "Requirement already satisfied: pytz>=2020.1 in /Users/nicolas/Library/Python/3.9/lib/python/site-packages (from pandas) (2025.2)\r\n",
      "Requirement already satisfied: cycler>=0.10 in /Users/nicolas/Library/Python/3.9/lib/python/site-packages (from matplotlib) (0.12.1)\r\n",
      "Requirement already satisfied: pyparsing>=2.3.1 in /Users/nicolas/Library/Python/3.9/lib/python/site-packages (from matplotlib) (3.2.3)\r\n",
      "Requirement already satisfied: importlib-resources>=3.2.0 in /Users/nicolas/Library/Python/3.9/lib/python/site-packages (from matplotlib) (6.5.2)\r\n",
      "Requirement already satisfied: contourpy>=1.0.1 in /Users/nicolas/Library/Python/3.9/lib/python/site-packages (from matplotlib) (1.3.0)\r\n",
      "Requirement already satisfied: pillow>=8 in /Users/nicolas/Library/Python/3.9/lib/python/site-packages (from matplotlib) (11.2.1)\r\n",
      "Requirement already satisfied: fonttools>=4.22.0 in /Users/nicolas/Library/Python/3.9/lib/python/site-packages (from matplotlib) (4.57.0)\r\n",
      "Requirement already satisfied: kiwisolver>=1.3.1 in /Users/nicolas/Library/Python/3.9/lib/python/site-packages (from matplotlib) (1.4.7)\r\n",
      "Requirement already satisfied: packaging>=20.0 in /Users/nicolas/Library/Python/3.9/lib/python/site-packages (from matplotlib) (24.2)\r\n",
      "Requirement already satisfied: joblib>=1.2.0 in /Users/nicolas/Library/Python/3.9/lib/python/site-packages (from scikit-learn) (1.5.1)\r\n",
      "Requirement already satisfied: threadpoolctl>=3.1.0 in /Users/nicolas/Library/Python/3.9/lib/python/site-packages (from scikit-learn) (3.6.0)\r\n",
      "Collecting narwhals>=1.15.1\r\n",
      "  Downloading narwhals-1.43.1-py3-none-any.whl (362 kB)\r\n",
      "\u001B[K     |████████████████████████████████| 362 kB 59.3 MB/s eta 0:00:01\r\n",
      "\u001B[?25hRequirement already satisfied: requests<3,>=2.21.0 in /Users/nicolas/Library/Python/3.9/lib/python/site-packages (from tensorflow) (2.32.3)\r\n",
      "Collecting gast!=0.5.0,!=0.5.1,!=0.5.2,>=0.2.1\r\n",
      "  Downloading gast-0.6.0-py3-none-any.whl (21 kB)\r\n",
      "Collecting flatbuffers>=24.3.25\r\n",
      "  Downloading flatbuffers-25.2.10-py2.py3-none-any.whl (30 kB)\r\n",
      "Collecting google-pasta>=0.1.1\r\n",
      "  Downloading google_pasta-0.2.0-py3-none-any.whl (57 kB)\r\n",
      "\u001B[K     |████████████████████████████████| 57 kB 18.3 MB/s eta 0:00:01\r\n",
      "\u001B[?25hRequirement already satisfied: six>=1.12.0 in /Library/Developer/CommandLineTools/Library/Frameworks/Python3.framework/Versions/3.9/lib/python3.9/site-packages (from tensorflow) (1.15.0)\r\n",
      "Collecting absl-py>=1.0.0\r\n",
      "  Downloading absl_py-2.3.0-py3-none-any.whl (135 kB)\r\n",
      "\u001B[K     |████████████████████████████████| 135 kB 91.7 MB/s eta 0:00:01\r\n",
      "\u001B[?25hCollecting tensorboard~=2.19.0\r\n",
      "  Downloading tensorboard-2.19.0-py3-none-any.whl (5.5 MB)\r\n",
      "\u001B[K     |████████████████████████████████| 5.5 MB 88.9 MB/s eta 0:00:01\r\n",
      "\u001B[?25hCollecting tensorflow-io-gcs-filesystem>=0.23.1\r\n",
      "  Downloading tensorflow_io_gcs_filesystem-0.37.1-cp39-cp39-macosx_12_0_arm64.whl (3.5 MB)\r\n",
      "\u001B[K     |████████████████████████████████| 3.5 MB 13.5 MB/s eta 0:00:01\r\n",
      "\u001B[?25hRequirement already satisfied: wrapt>=1.11.0 in /Users/nicolas/Library/Python/3.9/lib/python/site-packages (from tensorflow) (1.17.2)\r\n",
      "Collecting protobuf!=4.21.0,!=4.21.1,!=4.21.2,!=4.21.3,!=4.21.4,!=4.21.5,<6.0.0dev,>=3.20.3\r\n",
      "  Downloading protobuf-5.29.5-cp38-abi3-macosx_10_9_universal2.whl (418 kB)\r\n",
      "\u001B[K     |████████████████████████████████| 418 kB 73.2 MB/s eta 0:00:01\r\n",
      "\u001B[?25hRequirement already satisfied: setuptools in /Library/Developer/CommandLineTools/Library/Frameworks/Python3.framework/Versions/3.9/lib/python3.9/site-packages (from tensorflow) (58.0.4)\r\n",
      "Collecting grpcio<2.0,>=1.24.3\r\n",
      "  Downloading grpcio-1.73.0-cp39-cp39-macosx_11_0_universal2.whl (10.6 MB)\r\n",
      "\u001B[K     |████████████████████████████████| 10.6 MB 21.4 MB/s eta 0:00:01\r\n",
      "\u001B[?25hCollecting termcolor>=1.1.0\r\n",
      "  Downloading termcolor-3.1.0-py3-none-any.whl (7.7 kB)\r\n",
      "Collecting keras>=3.5.0\r\n",
      "  Downloading keras-3.10.0-py3-none-any.whl (1.4 MB)\r\n",
      "\u001B[K     |████████████████████████████████| 1.4 MB 32.6 MB/s eta 0:00:01\r\n",
      "\u001B[?25hCollecting ml-dtypes<1.0.0,>=0.5.1\r\n",
      "  Downloading ml_dtypes-0.5.1-cp39-cp39-macosx_10_9_universal2.whl (667 kB)\r\n",
      "\u001B[K     |████████████████████████████████| 667 kB 22.5 MB/s eta 0:00:01\r\n",
      "\u001B[?25hRequirement already satisfied: typing-extensions>=3.6.6 in /Users/nicolas/Library/Python/3.9/lib/python/site-packages (from tensorflow) (4.13.2)\r\n",
      "Collecting h5py>=3.11.0\r\n",
      "  Downloading h5py-3.14.0-cp39-cp39-macosx_11_0_arm64.whl (2.8 MB)\r\n",
      "\u001B[K     |████████████████████████████████| 2.8 MB 79.2 MB/s eta 0:00:01\r\n",
      "\u001B[?25hCollecting opt-einsum>=2.3.2\r\n",
      "  Downloading opt_einsum-3.4.0-py3-none-any.whl (71 kB)\r\n",
      "\u001B[K     |████████████████████████████████| 71 kB 1.7 MB/s  eta 0:00:01\r\n",
      "\u001B[?25hCollecting libclang>=13.0.0\r\n",
      "  Downloading libclang-18.1.1-1-py2.py3-none-macosx_11_0_arm64.whl (25.8 MB)\r\n",
      "\u001B[K     |████████████████████████████████| 25.8 MB 5.5 MB/s eta 0:00:011     |█████████████████████████████▍  | 23.7 MB 5.5 MB/s eta 0:00:01\r\n",
      "\u001B[?25hCollecting astunparse>=1.6.0\r\n",
      "  Downloading astunparse-1.6.3-py2.py3-none-any.whl (12 kB)\r\n",
      "Collecting regex>=2021.8.3\r\n",
      "  Downloading regex-2024.11.6-cp39-cp39-macosx_11_0_arm64.whl (284 kB)\r\n",
      "\u001B[K     |████████████████████████████████| 284 kB 65.3 MB/s eta 0:00:01\r\n",
      "\u001B[?25hRequirement already satisfied: tqdm in /Users/nicolas/Library/Python/3.9/lib/python/site-packages (from nltk) (4.67.1)\r\n",
      "Requirement already satisfied: click in /Users/nicolas/Library/Python/3.9/lib/python/site-packages (from nltk) (8.1.8)\r\n",
      "Requirement already satisfied: wheel<1.0,>=0.23.0 in /Library/Developer/CommandLineTools/Library/Frameworks/Python3.framework/Versions/3.9/lib/python3.9/site-packages (from astunparse>=1.6.0->tensorflow) (0.37.0)\r\n",
      "Requirement already satisfied: zipp>=3.1.0 in /Users/nicolas/Library/Python/3.9/lib/python/site-packages (from importlib-resources>=3.2.0->matplotlib) (3.21.0)\r\n",
      "Collecting optree\r\n",
      "  Downloading optree-0.16.0-cp39-cp39-macosx_11_0_arm64.whl (330 kB)\r\n",
      "\u001B[K     |████████████████████████████████| 330 kB 8.4 MB/s eta 0:00:01\r\n",
      "\u001B[?25hCollecting namex\r\n",
      "  Downloading namex-0.1.0-py3-none-any.whl (5.9 kB)\r\n",
      "Collecting rich\r\n",
      "  Downloading rich-14.0.0-py3-none-any.whl (243 kB)\r\n",
      "\u001B[K     |████████████████████████████████| 243 kB 37.4 MB/s eta 0:00:01\r\n",
      "\u001B[?25hRequirement already satisfied: urllib3<3,>=1.21.1 in /Users/nicolas/Library/Python/3.9/lib/python/site-packages (from requests<3,>=2.21.0->tensorflow) (1.26.20)\r\n",
      "Requirement already satisfied: charset-normalizer<4,>=2 in /Users/nicolas/Library/Python/3.9/lib/python/site-packages (from requests<3,>=2.21.0->tensorflow) (3.4.2)\r\n",
      "Requirement already satisfied: idna<4,>=2.5 in /Users/nicolas/Library/Python/3.9/lib/python/site-packages (from requests<3,>=2.21.0->tensorflow) (3.10)\r\n",
      "Requirement already satisfied: certifi>=2017.4.17 in /Users/nicolas/Library/Python/3.9/lib/python/site-packages (from requests<3,>=2.21.0->tensorflow) (2025.4.26)\r\n",
      "Collecting werkzeug>=1.0.1\r\n",
      "  Downloading werkzeug-3.1.3-py3-none-any.whl (224 kB)\r\n",
      "\u001B[K     |████████████████████████████████| 224 kB 87.2 MB/s eta 0:00:01\r\n",
      "\u001B[?25hCollecting tensorboard-data-server<0.8.0,>=0.7.0\r\n",
      "  Downloading tensorboard_data_server-0.7.2-py3-none-any.whl (2.4 kB)\r\n",
      "Collecting markdown>=2.6.8\r\n",
      "  Downloading markdown-3.8.2-py3-none-any.whl (106 kB)\r\n",
      "\u001B[K     |████████████████████████████████| 106 kB 16.8 MB/s eta 0:00:01\r\n",
      "\u001B[?25hRequirement already satisfied: importlib-metadata>=4.4 in /Users/nicolas/Library/Python/3.9/lib/python/site-packages (from markdown>=2.6.8->tensorboard~=2.19.0->tensorflow) (8.6.1)\r\n",
      "Requirement already satisfied: MarkupSafe>=2.1.1 in /Users/nicolas/Library/Python/3.9/lib/python/site-packages (from werkzeug>=1.0.1->tensorboard~=2.19.0->tensorflow) (3.0.2)\r\n",
      "Requirement already satisfied: pygments<3.0.0,>=2.13.0 in /Users/nicolas/Library/Python/3.9/lib/python/site-packages (from rich->keras>=3.5.0->tensorflow) (2.19.1)\r\n",
      "Collecting markdown-it-py>=2.2.0\r\n",
      "  Downloading markdown_it_py-3.0.0-py3-none-any.whl (87 kB)\r\n",
      "\u001B[K     |████████████████████████████████| 87 kB 33.9 MB/s eta 0:00:01\r\n",
      "\u001B[?25hCollecting mdurl~=0.1\r\n",
      "  Downloading mdurl-0.1.2-py3-none-any.whl (10.0 kB)\r\n",
      "Installing collected packages: mdurl, numpy, markdown-it-py, werkzeug, tensorboard-data-server, rich, protobuf, optree, namex, ml-dtypes, markdown, h5py, grpcio, absl-py, termcolor, tensorflow-io-gcs-filesystem, tensorboard, smart-open, regex, opt-einsum, narwhals, libclang, keras, google-pasta, gast, flatbuffers, astunparse, tensorflow, seaborn, plotly, nltk, gensim\r\n",
      "  Attempting uninstall: numpy\r\n",
      "    Found existing installation: numpy 2.0.2\r\n",
      "    Uninstalling numpy-2.0.2:\r\n",
      "      Successfully uninstalled numpy-2.0.2\r\n",
      "\u001B[33m  WARNING: The script f2py is installed in '/Users/nicolas/Library/Python/3.9/bin' which is not on PATH.\r\n",
      "  Consider adding this directory to PATH or, if you prefer to suppress this warning, use --no-warn-script-location.\u001B[0m\r\n",
      "\u001B[33m  WARNING: The script markdown-it is installed in '/Users/nicolas/Library/Python/3.9/bin' which is not on PATH.\r\n",
      "  Consider adding this directory to PATH or, if you prefer to suppress this warning, use --no-warn-script-location.\u001B[0m\r\n",
      "\u001B[33m  WARNING: The script markdown_py is installed in '/Users/nicolas/Library/Python/3.9/bin' which is not on PATH.\r\n",
      "  Consider adding this directory to PATH or, if you prefer to suppress this warning, use --no-warn-script-location.\u001B[0m\r\n",
      "\u001B[33m  WARNING: The script tensorboard is installed in '/Users/nicolas/Library/Python/3.9/bin' which is not on PATH.\r\n",
      "  Consider adding this directory to PATH or, if you prefer to suppress this warning, use --no-warn-script-location.\u001B[0m\r\n",
      "\u001B[33m  WARNING: The scripts import_pb_to_tensorboard, saved_model_cli, tensorboard, tf_upgrade_v2, tflite_convert and toco are installed in '/Users/nicolas/Library/Python/3.9/bin' which is not on PATH.\r\n",
      "  Consider adding this directory to PATH or, if you prefer to suppress this warning, use --no-warn-script-location.\u001B[0m\r\n",
      "\u001B[33m  WARNING: The script plotly_get_chrome is installed in '/Users/nicolas/Library/Python/3.9/bin' which is not on PATH.\r\n",
      "  Consider adding this directory to PATH or, if you prefer to suppress this warning, use --no-warn-script-location.\u001B[0m\r\n",
      "\u001B[33m  WARNING: The script nltk is installed in '/Users/nicolas/Library/Python/3.9/bin' which is not on PATH.\r\n",
      "  Consider adding this directory to PATH or, if you prefer to suppress this warning, use --no-warn-script-location.\u001B[0m\r\n",
      "Successfully installed absl-py-2.3.0 astunparse-1.6.3 flatbuffers-25.2.10 gast-0.6.0 gensim-4.3.3 google-pasta-0.2.0 grpcio-1.73.0 h5py-3.14.0 keras-3.10.0 libclang-18.1.1 markdown-3.8.2 markdown-it-py-3.0.0 mdurl-0.1.2 ml-dtypes-0.5.1 namex-0.1.0 narwhals-1.43.1 nltk-3.9.1 numpy-1.26.4 opt-einsum-3.4.0 optree-0.16.0 plotly-6.1.2 protobuf-5.29.5 regex-2024.11.6 rich-14.0.0 seaborn-0.13.2 smart-open-7.1.0 tensorboard-2.19.0 tensorboard-data-server-0.7.2 tensorflow-2.19.0 tensorflow-io-gcs-filesystem-0.37.1 termcolor-3.1.0 werkzeug-3.1.3\r\n",
      "\u001B[33mWARNING: You are using pip version 21.2.4; however, version 25.1.1 is available.\r\n",
      "You should consider upgrading via the '/Library/Developer/CommandLineTools/usr/bin/python3 -m pip install --upgrade pip' command.\u001B[0m\r\n",
      "Note: you may need to restart the kernel to use updated packages.\n",
      "Librerías importadas exitosamente\n"
     ]
    }
   ],
   "execution_count": 1
  },
  {
   "metadata": {
    "ExecuteTime": {
     "end_time": "2025-06-19T19:59:50.991078Z",
     "start_time": "2025-06-19T19:59:48.297906Z"
    }
   },
   "cell_type": "code",
   "source": [
    "print(\"\\n\" + \"=\" * 80)\n",
    "print(\"1. DESCARGA Y PREPARACIÓN DEL DATASET\")\n",
    "print(\"=\" * 80)\n",
    "\n",
    "def download_songs_dataset():\n",
    "    if not os.path.exists('./songs_dataset'):\n",
    "        if not os.path.exists('songs_dataset.zip'):\n",
    "            if platform.system() == 'Windows':\n",
    "                !curl https://raw.githubusercontent.com/FIUBA-Posgrado-Inteligencia-Artificial/procesamiento_lenguaje_natural/main/datasets/songs_dataset.zip -o songs_dataset.zip\n",
    "            else:\n",
    "                !wget -O songs_dataset.zip https://github.com/FIUBA-Posgrado-Inteligencia-Artificial/procesamiento_lenguaje_natural/raw/main/datasets/songs_dataset.zip\n",
    "        !unzip -q songs_dataset.zip\n",
    "        print(\"Dataset de canciones descargado exitosamente\")\n",
    "    else:\n",
    "        print(\"El dataset de canciones ya existe\")\n",
    "\n",
    "download_songs_dataset()\n",
    "\n",
    "print(\"\\nArchivos disponibles en el dataset:\")\n",
    "available_files = os.listdir(\"./songs_dataset/\")\n",
    "for i, file in enumerate(available_files[:20]):\n",
    "    print(f\"{i+1:2d}. {file}\")\n",
    "if len(available_files) > 20:\n",
    "    print(f\"    ... y {len(available_files) - 20} archivos más\")"
   ],
   "outputs": [
    {
     "name": "stdout",
     "output_type": "stream",
     "text": [
      "\n",
      "================================================================================\n",
      "1. DESCARGA Y PREPARACIÓN DEL DATASET\n",
      "================================================================================\n",
      "--2025-06-19 14:59:49--  https://github.com/FIUBA-Posgrado-Inteligencia-Artificial/procesamiento_lenguaje_natural/raw/main/datasets/songs_dataset.zip\r\n",
      "Resolving github.com (github.com)... 140.82.112.4\r\n",
      "Connecting to github.com (github.com)|140.82.112.4|:443... connected.\r\n",
      "HTTP request sent, awaiting response... 302 Found\r\n",
      "Location: https://raw.githubusercontent.com/FIUBA-Posgrado-Inteligencia-Artificial/procesamiento_lenguaje_natural/main/datasets/songs_dataset.zip [following]\r\n",
      "--2025-06-19 14:59:50--  https://raw.githubusercontent.com/FIUBA-Posgrado-Inteligencia-Artificial/procesamiento_lenguaje_natural/main/datasets/songs_dataset.zip\r\n",
      "Resolving raw.githubusercontent.com (raw.githubusercontent.com)... 185.199.111.133, 185.199.108.133, 185.199.109.133, ...\r\n",
      "Connecting to raw.githubusercontent.com (raw.githubusercontent.com)|185.199.111.133|:443... connected.\r\n",
      "HTTP request sent, awaiting response... 200 OK\r\n",
      "Length: 2075036 (2.0M) [application/zip]\r\n",
      "Saving to: ‘songs_dataset.zip’\r\n",
      "\r\n",
      "songs_dataset.zip   100%[===================>]   1.98M  --.-KB/s    in 0.09s   \r\n",
      "\r\n",
      "2025-06-19 14:59:50 (22.9 MB/s) - ‘songs_dataset.zip’ saved [2075036/2075036]\r\n",
      "\r\n",
      "Dataset de canciones descargado exitosamente\n",
      "\n",
      "Archivos disponibles en el dataset:\n",
      " 1. prince.txt\n",
      " 2. dickinson.txt\n",
      " 3. notorious-big.txt\n",
      " 4. beatles.txt\n",
      " 5. bob-dylan.txt\n",
      " 6. bjork.txt\n",
      " 7. johnny-cash.txt\n",
      " 8. disney.txt\n",
      " 9. janisjoplin.txt\n",
      "10. kanye.txt\n",
      "11. bob-marley.txt\n",
      "12. leonard-cohen.txt\n",
      "13. ludacris.txt\n",
      "14. adele.txt\n",
      "15. alicia-keys.txt\n",
      "16. joni-mitchell.txt\n",
      "17. amy-winehouse.txt\n",
      "18. lorde.txt\n",
      "19. rihanna.txt\n",
      "20. Kanye_West.txt\n",
      "    ... y 29 archivos más\n"
     ]
    }
   ],
   "execution_count": 2
  },
  {
   "metadata": {
    "ExecuteTime": {
     "end_time": "2025-06-19T20:02:59.344140Z",
     "start_time": "2025-06-19T20:02:59.143824Z"
    }
   },
   "cell_type": "code",
   "source": [
    "selected_artists = ['beatles.txt', 'bob-dylan.txt', 'nirvana.txt', 'radiohead.txt', 'drake.txt']\n",
    "\n",
    "print(f\"Artistas seleccionados: {[art.replace('.txt', '') for art in selected_artists]}\")\n",
    "\n",
    "all_lyrics = []\n",
    "artist_info = {}\n",
    "\n",
    "for artist_file in selected_artists:\n",
    "    if artist_file in available_files:\n",
    "        artist_name = artist_file.replace('.txt', '')\n",
    "\n",
    "        try:\n",
    "            with open(f'songs_dataset/{artist_file}', 'r', encoding='utf-8') as f:\n",
    "                artist_lyrics = [line.strip() for line in f.readlines() if line.strip()]\n",
    "        except UnicodeDecodeError:\n",
    "            with open(f'songs_dataset/{artist_file}', 'r', encoding='latin-1') as f:\n",
    "                artist_lyrics = [line.strip() for line in f.readlines() if line.strip()]\n",
    "\n",
    "        all_lyrics.extend(artist_lyrics)\n",
    "        artist_info[artist_name] = len(artist_lyrics)\n",
    "\n",
    "        print(f\"  {artist_name}: {len(artist_lyrics)} líneas cargadas\")\n",
    "    else:\n",
    "        artist_name = artist_file.replace('.txt', '')\n",
    "        print(f\"  ❌ {artist_name}: archivo no encontrado\")\n",
    "\n",
    "print(f\"\\nTotal de líneas cargadas: {len(all_lyrics)}\")\n",
    "\n",
    "plt.figure(figsize=(10, 6))\n",
    "artists = list(artist_info.keys())\n",
    "counts = list(artist_info.values())\n",
    "bars = plt.bar(artists, counts, color=['#1f77b4', '#ff7f0e', '#2ca02c', '#d62728', '#9467bd'])\n",
    "plt.title('Distribución de líneas por artista')\n",
    "plt.xlabel('Artista')\n",
    "plt.ylabel('Número de líneas')\n",
    "plt.xticks(rotation=45)\n",
    "for bar, count in zip(bars, counts):\n",
    "    plt.text(bar.get_x() + bar.get_width()/2, bar.get_height() + 10,\n",
    "             str(count), ha='center', va='bottom')\n",
    "plt.tight_layout()\n",
    "plt.show()"
   ],
   "outputs": [
    {
     "name": "stdout",
     "output_type": "stream",
     "text": [
      "Artistas seleccionados: ['beatles', 'bob-dylan', 'nirvana', 'radiohead', 'drake']\n",
      "  beatles: 1846 líneas cargadas\n",
      "  bob-dylan: 5213 líneas cargadas\n",
      "  nirvana: 1985 líneas cargadas\n",
      "  radiohead: 2343 líneas cargadas\n",
      "  drake: 4773 líneas cargadas\n",
      "\n",
      "Total de líneas cargadas: 16160\n"
     ]
    },
    {
     "data": {
      "text/plain": [
       "<Figure size 1000x600 with 1 Axes>"
      ],
      "image/png": "[encoded data removed]"
     },
     "metadata": {},
     "output_type": "display_data"
    }
   ],
   "execution_count": 4
  },
  {
   "cell_type": "code",
   "metadata": {
    "id": "l7z4CSBfpR3X",
    "ExecuteTime": {
     "end_time": "2025-06-19T20:03:34.380789Z",
     "start_time": "2025-06-19T20:03:34.300998Z"
    }
   },
   "source": [
    "print(\"\\n\" + \"=\" * 80)\n",
    "print(\"3. PREPROCESAMIENTO DE TEXTO\")\n",
    "print(\"=\" * 80)\n",
    "\n",
    "def preprocess_lyrics(lyrics_list):\n",
    "    sentence_tokens = []\n",
    "\n",
    "    filtered_lyrics = [line for line in lyrics_list if isinstance(line, str) and len(line.strip()) > 2]\n",
    "\n",
    "    print(f\"Líneas filtradas: {len(lyrics_list)} -> {len(filtered_lyrics)}\")\n",
    "\n",
    "    for line in filtered_lyrics:\n",
    "        tokens = text_to_word_sequence(line)\n",
    "        if len(tokens) > 1:\n",
    "            sentence_tokens.append(tokens)\n",
    "\n",
    "    return sentence_tokens\n",
    "\n",
    "sentence_tokens = preprocess_lyrics(all_lyrics)\n",
    "\n",
    "print(f\"Número de oraciones tokenizadas: {len(sentence_tokens)}\")\n",
    "print(f\"Ejemplo de tokenización:\")\n",
    "for i in range(3):\n",
    "    original_line = all_lyrics[i] if i < len(all_lyrics) else \"N/A\"\n",
    "    tokens = sentence_tokens[i] if i < len(sentence_tokens) else []\n",
    "    print(f\"  Original: {original_line}\")\n",
    "    print(f\"  Tokens:   {tokens}\")\n",
    "    print()\n",
    "\n",
    "token_counts = [len(tokens) for tokens in sentence_tokens]\n",
    "avg_tokens = np.mean(token_counts)\n",
    "print(f\"Promedio de tokens por oración: {avg_tokens:.2f}\")\n",
    "print(f\"Mínimo de tokens: {min(token_counts)}\")\n",
    "print(f\"Máximo de tokens: {max(token_counts)}\")"
   ],
   "outputs": [
    {
     "name": "stdout",
     "output_type": "stream",
     "text": [
      "\n",
      "================================================================================\n",
      "3. PREPROCESAMIENTO DE TEXTO\n",
      "================================================================================\n",
      "Líneas filtradas: 16160 -> 16147\n",
      "Número de oraciones tokenizadas: 15954\n",
      "Ejemplo de tokenización:\n",
      "  Original: Yesterday, all my troubles seemed so far away\n",
      "  Tokens:   ['yesterday', 'all', 'my', 'troubles', 'seemed', 'so', 'far', 'away']\n",
      "\n",
      "  Original: Now it looks as though they're here to stay\n",
      "  Tokens:   ['now', 'it', 'looks', 'as', 'though', \"they're\", 'here', 'to', 'stay']\n",
      "\n",
      "  Original: Oh, I believe in yesterday Suddenly, I'm not half the man I used to be\n",
      "  Tokens:   ['oh', 'i', 'believe', 'in', 'yesterday', 'suddenly', \"i'm\", 'not', 'half', 'the', 'man', 'i', 'used', 'to', 'be']\n",
      "\n",
      "Promedio de tokens por oración: 7.35\n",
      "Mínimo de tokens: 2\n",
      "Máximo de tokens: 92\n"
     ]
    }
   ],
   "execution_count": 6
  },
  {
   "metadata": {
    "ExecuteTime": {
     "end_time": "2025-06-19T20:03:57.782568Z",
     "start_time": "2025-06-19T20:03:50.968645Z"
    }
   },
   "cell_type": "code",
   "source": [
    "print(\"\\n\" + \"=\" * 80)\n",
    "print(\"4. CREACIÓN Y ENTRENAMIENTO DEL MODELO WORD2VEC\")\n",
    "print(\"=\" * 80)\n",
    "\n",
    "class LossCallback(CallbackAny2Vec):\n",
    "    def __init__(self):\n",
    "        self.epoch = 0\n",
    "        self.loss_previous_step = 0\n",
    "\n",
    "    def on_epoch_end(self, model):\n",
    "        loss = model.get_latest_training_loss()\n",
    "        if self.epoch == 0:\n",
    "            print('Loss after epoch {}: {:.0f}'.format(self.epoch, loss))\n",
    "        else:\n",
    "            current_loss = loss - self.loss_previous_step\n",
    "            print('Loss after epoch {}: {:.0f}'.format(self.epoch, current_loss))\n",
    "        self.epoch += 1\n",
    "        self.loss_previous_step = loss\n",
    "\n",
    "print(\"Configurando modelo Word2Vec...\")\n",
    "w2v_model = Word2Vec(\n",
    "    min_count=3,\n",
    "    window=5,\n",
    "    vector_size=200,\n",
    "    negative=15,\n",
    "    workers=multiprocessing.cpu_count() - 1,\n",
    "    sg=1,\n",
    "    seed=42\n",
    ")\n",
    "\n",
    "print(\"Construyendo vocabulario...\")\n",
    "w2v_model.build_vocab(sentence_tokens)\n",
    "\n",
    "print(f\"Estadísticas del modelo:\")\n",
    "print(f\"  - Documentos en el corpus: {w2v_model.corpus_count}\")\n",
    "print(f\"  - Palabras distintas en vocabulario: {len(w2v_model.wv.index_to_key)}\")\n",
    "print(f\"  - Dimensión de vectores: {w2v_model.vector_size}\")\n",
    "\n",
    "print(f\"\\nEntrenando modelo por 50 épocas...\")\n",
    "w2v_model.train(\n",
    "    sentence_tokens,\n",
    "    total_examples=w2v_model.corpus_count,\n",
    "    epochs=50,\n",
    "    compute_loss=True,\n",
    "    callbacks=[LossCallback()]\n",
    ")\n",
    "\n",
    "print(\"Entrenamiento completado!\")\n"
   ],
   "outputs": [
    {
     "name": "stdout",
     "output_type": "stream",
     "text": [
      "\n",
      "================================================================================\n",
      "4. CREACIÓN Y ENTRENAMIENTO DEL MODELO WORD2VEC\n",
      "================================================================================\n",
      "Configurando modelo Word2Vec...\n",
      "Construyendo vocabulario...\n",
      "Estadísticas del modelo:\n",
      "  - Documentos en el corpus: 15954\n",
      "  - Palabras distintas en vocabulario: 2947\n",
      "  - Dimensión de vectores: 200\n",
      "\n",
      "Entrenando modelo por 50 épocas...\n",
      "Loss after epoch 0: 170085\n",
      "Loss after epoch 1: 160603\n",
      "Loss after epoch 2: 143290\n",
      "Loss after epoch 3: 154084\n",
      "Loss after epoch 4: 120655\n",
      "Loss after epoch 5: 133642\n",
      "Loss after epoch 6: 139574\n",
      "Loss after epoch 7: 121348\n",
      "Loss after epoch 8: 127608\n",
      "Loss after epoch 9: 124491\n",
      "Loss after epoch 10: 124263\n",
      "Loss after epoch 11: 109520\n",
      "Loss after epoch 12: 97393\n",
      "Loss after epoch 13: 121299\n",
      "Loss after epoch 14: 120713\n",
      "Loss after epoch 15: 118743\n",
      "Loss after epoch 16: 111782\n",
      "Loss after epoch 17: 110983\n",
      "Loss after epoch 18: 97476\n",
      "Loss after epoch 19: 95291\n",
      "Loss after epoch 20: 94909\n",
      "Loss after epoch 21: 94653\n",
      "Loss after epoch 22: 85705\n",
      "Loss after epoch 23: 94368\n",
      "Loss after epoch 24: 106355\n",
      "Loss after epoch 25: 95425\n",
      "Loss after epoch 26: 105300\n",
      "Loss after epoch 27: 104506\n",
      "Loss after epoch 28: 101482\n",
      "Loss after epoch 29: 93968\n",
      "Loss after epoch 30: 104131\n",
      "Loss after epoch 31: 94787\n",
      "Loss after epoch 32: 94516\n",
      "Loss after epoch 33: 94697\n",
      "Loss after epoch 34: 94328\n",
      "Loss after epoch 35: 104554\n",
      "Loss after epoch 36: 104815\n",
      "Loss after epoch 37: 96670\n",
      "Loss after epoch 38: 82385\n",
      "Loss after epoch 39: 84922\n",
      "Loss after epoch 40: 83456\n",
      "Loss after epoch 41: 83981\n",
      "Loss after epoch 42: 93734\n",
      "Loss after epoch 43: 84026\n",
      "Loss after epoch 44: 92243\n",
      "Loss after epoch 45: 92998\n",
      "Loss after epoch 46: 94447\n",
      "Loss after epoch 47: 84260\n",
      "Loss after epoch 48: 82521\n",
      "Loss after epoch 49: 90576\n",
      "Entrenamiento completado!\n"
     ]
    }
   ],
   "execution_count": 7
  },
  {
   "metadata": {
    "ExecuteTime": {
     "end_time": "2025-06-19T20:06:13.668028Z",
     "start_time": "2025-06-19T20:06:13.610415Z"
    }
   },
   "cell_type": "code",
   "source": [
    "\n",
    "print(\"\\n\" + \"=\" * 80)\n",
    "print(\"5. ANÁLISIS DE SIMILITUDES Y EXPLORACIÓN\")\n",
    "print(\"=\" * 80)\n",
    "\n",
    "words_of_interest = [\n",
    "    'love', 'heart', 'soul', 'mind',\n",
    "    'music', 'song', 'rock', 'sound',\n",
    "    'life', 'death', 'time', 'world',\n",
    "    'girl', 'boy', 'man', 'woman',\n",
    "    'night', 'day', 'light', 'dark'\n",
    "]\n",
    "\n",
    "def analyze_word_similarities(model, words_list, topn=8):\n",
    "    print(\"ANÁLISIS DE SIMILITUDES PALABRA POR PALABRA\")\n",
    "    print(\"-\" * 60)\n",
    "\n",
    "    results = {}\n",
    "\n",
    "    for word in words_list:\n",
    "        if word in model.wv:\n",
    "            print(f\"\\nPalabra: '{word.upper()}'\")\n",
    "            similar_words = model.wv.most_similar(word, topn=topn)\n",
    "            results[word] = similar_words\n",
    "\n",
    "            for i, (similar_word, similarity) in enumerate(similar_words, 1):\n",
    "                print(f\"  {i:2d}. {similar_word:<15} (similaridad: {similarity:.4f})\")\n",
    "        else:\n",
    "            print(f\"\\n'{word}' no está en el vocabulario\")\n",
    "            results[word] = None\n",
    "\n",
    "    return results\n",
    "\n",
    "similarity_results = analyze_word_similarities(w2v_model, words_of_interest)\n"
   ],
   "outputs": [
    {
     "name": "stdout",
     "output_type": "stream",
     "text": [
      "\n",
      "================================================================================\n",
      "5. ANÁLISIS DE SIMILITUDES Y EXPLORACIÓN\n",
      "================================================================================\n",
      "ANÁLISIS DE SIMILITUDES PALABRA POR PALABRA\n",
      "------------------------------------------------------------\n",
      "\n",
      "Palabra: 'LOVE'\n",
      "   1. pleasing        (similaridad: 0.4790)\n",
      "   2. dodie           (similaridad: 0.4723)\n",
      "   3. rollie          (similaridad: 0.4692)\n",
      "   4. showin'         (similaridad: 0.4533)\n",
      "   5. granted         (similaridad: 0.4321)\n",
      "   6. endlessly       (similaridad: 0.4293)\n",
      "   7. certain         (similaridad: 0.4227)\n",
      "   8. nah             (similaridad: 0.4204)\n",
      "\n",
      "Palabra: 'HEART'\n",
      "   1. yearnin'        (similaridad: 0.4864)\n",
      "   2. burnin'         (similaridad: 0.4834)\n",
      "   3. comfortable     (similaridad: 0.4617)\n",
      "   4. shaped          (similaridad: 0.4365)\n",
      "   5. salt            (similaridad: 0.4364)\n",
      "   6. opinions        (similaridad: 0.4189)\n",
      "   7. forgetful       (similaridad: 0.4157)\n",
      "   8. lovin'          (similaridad: 0.4097)\n",
      "\n",
      "Palabra: 'SOUL'\n",
      "   1. demons          (similaridad: 0.5487)\n",
      "   2. immerse         (similaridad: 0.5375)\n",
      "   3. god’s           (similaridad: 0.4657)\n",
      "   4. addiction       (similaridad: 0.4604)\n",
      "   5. callin'         (similaridad: 0.4574)\n",
      "   6. pockets         (similaridad: 0.4368)\n",
      "   7. vice            (similaridad: 0.4312)\n",
      "   8. comfortable     (similaridad: 0.4245)\n",
      "\n",
      "Palabra: 'MIND'\n",
      "   1. redemption's    (similaridad: 0.4232)\n",
      "   2. facts           (similaridad: 0.4185)\n",
      "   3. hello           (similaridad: 0.3884)\n",
      "   4. drifting        (similaridad: 0.3882)\n",
      "   5. strangled       (similaridad: 0.3780)\n",
      "   6. fail            (similaridad: 0.3769)\n",
      "   7. swell           (similaridad: 0.3725)\n",
      "   8. nah             (similaridad: 0.3717)\n",
      "\n",
      "Palabra: 'MUSIC'\n",
      "   1. aston           (similaridad: 0.7021)\n",
      "   2. would've        (similaridad: 0.6665)\n",
      "   3. bobbin'         (similaridad: 0.6520)\n",
      "   4. martin          (similaridad: 0.6508)\n",
      "   5. roses           (similaridad: 0.5240)\n",
      "   6. wonderful       (similaridad: 0.5231)\n",
      "   7. station         (similaridad: 0.5152)\n",
      "   8. hits            (similaridad: 0.5131)\n",
      "\n",
      "Palabra: 'SONG'\n",
      "   1. tambourine      (similaridad: 0.5693)\n",
      "   2. singin’         (similaridad: 0.5041)\n",
      "   3. assistance      (similaridad: 0.4674)\n",
      "   4. bros            (similaridad: 0.4579)\n",
      "   5. seamy           (similaridad: 0.4559)\n",
      "   6. magpie          (similaridad: 0.4484)\n",
      "   7. hov             (similaridad: 0.4422)\n",
      "   8. forgiveness     (similaridad: 0.4211)\n",
      "\n",
      "Palabra: 'ROCK'\n",
      "   1. magazine        (similaridad: 0.5367)\n",
      "   2. roll            (similaridad: 0.4892)\n",
      "   3. solid           (similaridad: 0.4809)\n",
      "   4. sits            (similaridad: 0.4719)\n",
      "   5. hangin’         (similaridad: 0.4387)\n",
      "   6. whether         (similaridad: 0.4323)\n",
      "   7. slowly          (similaridad: 0.4310)\n",
      "   8. preacher        (similaridad: 0.4308)\n",
      "\n",
      "Palabra: 'SOUND'\n",
      "   1. seamy           (similaridad: 0.5319)\n",
      "   2. loudest         (similaridad: 0.5052)\n",
      "   3. killing         (similaridad: 0.4572)\n",
      "   4. amazing         (similaridad: 0.4223)\n",
      "   5. song            (similaridad: 0.4211)\n",
      "   6. rappers         (similaridad: 0.4183)\n",
      "   7. view            (similaridad: 0.4082)\n",
      "   8. yolo            (similaridad: 0.4052)\n",
      "\n",
      "Palabra: 'LIFE'\n",
      "   1. ob              (similaridad: 0.3754)\n",
      "   2. uhh             (similaridad: 0.3578)\n",
      "   3. livin'          (similaridad: 0.3536)\n",
      "   4. nah             (similaridad: 0.3507)\n",
      "   5. brief           (similaridad: 0.3450)\n",
      "   6. scream          (similaridad: 0.3353)\n",
      "   7. shall           (similaridad: 0.3321)\n",
      "   8. kin             (similaridad: 0.3306)\n",
      "\n",
      "Palabra: 'DEATH'\n",
      "   1. glow            (similaridad: 0.4641)\n",
      "   2. fighting        (similaridad: 0.4471)\n",
      "   3. able            (similaridad: 0.4427)\n",
      "   4. biting          (similaridad: 0.4330)\n",
      "   5. healed          (similaridad: 0.4289)\n",
      "   6. steel           (similaridad: 0.4242)\n",
      "   7. crippled        (similaridad: 0.4238)\n",
      "   8. freeze          (similaridad: 0.4214)\n",
      "\n",
      "Palabra: 'TIME'\n",
      "   1. legend          (similaridad: 0.3894)\n",
      "   2. nah             (similaridad: 0.3838)\n",
      "   3. happens         (similaridad: 0.3807)\n",
      "   4. famous          (similaridad: 0.3779)\n",
      "   5. uhh             (similaridad: 0.3684)\n",
      "   6. mystery         (similaridad: 0.3682)\n",
      "   7. shawty          (similaridad: 0.3622)\n",
      "   8. ago             (similaridad: 0.3618)\n",
      "\n",
      "Palabra: 'WORLD'\n",
      "   1. round           (similaridad: 0.4337)\n",
      "   2. spinning        (similaridad: 0.4143)\n",
      "   3. sounds          (similaridad: 0.4092)\n",
      "   4. ships           (similaridad: 0.3998)\n",
      "   5. clowns          (similaridad: 0.3948)\n",
      "   6. nothing's       (similaridad: 0.3888)\n",
      "   7. cracker         (similaridad: 0.3754)\n",
      "   8. foundation      (similaridad: 0.3743)\n",
      "\n",
      "Palabra: 'GIRL'\n",
      "   1. choosey         (similaridad: 0.4821)\n",
      "   2. daddy's         (similaridad: 0.4820)\n",
      "   3. security        (similaridad: 0.4502)\n",
      "   4. breaks          (similaridad: 0.4434)\n",
      "   5. action          (similaridad: 0.4269)\n",
      "   6. spied           (similaridad: 0.4182)\n",
      "   7. nah             (similaridad: 0.4171)\n",
      "   8. kyla            (similaridad: 0.4144)\n",
      "\n",
      "Palabra: 'BOY'\n",
      "   1. hah             (similaridad: 0.4403)\n",
      "   2. named           (similaridad: 0.3921)\n",
      "   3. fashion         (similaridad: 0.3897)\n",
      "   4. negative        (similaridad: 0.3877)\n",
      "   5. shits           (similaridad: 0.3875)\n",
      "   6. chef            (similaridad: 0.3856)\n",
      "   7. hoo             (similaridad: 0.3801)\n",
      "   8. desire          (similaridad: 0.3792)\n",
      "\n",
      "Palabra: 'MAN'\n",
      "   1. figures         (similaridad: 0.3905)\n",
      "   2. field           (similaridad: 0.3824)\n",
      "   3. hov             (similaridad: 0.3698)\n",
      "   4. barren          (similaridad: 0.3658)\n",
      "   5. careful         (similaridad: 0.3625)\n",
      "   6. animals         (similaridad: 0.3569)\n",
      "   7. fashion         (similaridad: 0.3558)\n",
      "   8. nah             (similaridad: 0.3532)\n",
      "\n",
      "Palabra: 'WOMAN'\n",
      "   1. stranger        (similaridad: 0.4425)\n",
      "   2. momma           (similaridad: 0.4340)\n",
      "   3. buzz            (similaridad: 0.4224)\n",
      "   4. contagious      (similaridad: 0.4194)\n",
      "   5. bentley         (similaridad: 0.4040)\n",
      "   6. owe             (similaridad: 0.4021)\n",
      "   7. saint           (similaridad: 0.3914)\n",
      "   8. feelin’         (similaridad: 0.3845)\n",
      "\n",
      "Palabra: 'NIGHT'\n",
      "   1. locket          (similaridad: 0.5298)\n",
      "   2. shiver          (similaridad: 0.4736)\n",
      "   3. almounds        (similaridad: 0.4721)\n",
      "   4. pines           (similaridad: 0.4483)\n",
      "   5. singing         (similaridad: 0.4354)\n",
      "   6. owl             (similaridad: 0.4314)\n",
      "   7. crystal         (similaridad: 0.4218)\n",
      "   8. day's           (similaridad: 0.4104)\n",
      "\n",
      "Palabra: 'DAY'\n",
      "   1. sunshine        (similaridad: 0.5089)\n",
      "   2. process         (similaridad: 0.4761)\n",
      "   3. mississippi     (similaridad: 0.4655)\n",
      "   4. tomorrow’s      (similaridad: 0.4510)\n",
      "   5. freaking        (similaridad: 0.4372)\n",
      "   6. swallow         (similaridad: 0.4192)\n",
      "   7. most            (similaridad: 0.3867)\n",
      "   8. studio          (similaridad: 0.3831)\n",
      "\n",
      "Palabra: 'LIGHT'\n",
      "   1. fires           (similaridad: 0.4837)\n",
      "   2. shining         (similaridad: 0.4687)\n",
      "   3. shines          (similaridad: 0.4469)\n",
      "   4. shinin’         (similaridad: 0.4348)\n",
      "   5. skinned         (similaridad: 0.4258)\n",
      "   6. armour          (similaridad: 0.4137)\n",
      "   7. towards         (similaridad: 0.4096)\n",
      "   8. blackbird       (similaridad: 0.4064)\n",
      "\n",
      "Palabra: 'DARK'\n",
      "   1. vacuum          (similaridad: 0.5256)\n",
      "   2. mountains       (similaridad: 0.4638)\n",
      "   3. turnin’         (similaridad: 0.4620)\n",
      "   4. stairs          (similaridad: 0.4606)\n",
      "   5. ancient         (similaridad: 0.4534)\n",
      "   6. gettin’         (similaridad: 0.4514)\n",
      "   7. irons           (similaridad: 0.4436)\n",
      "   8. glow            (similaridad: 0.4405)\n"
     ]
    }
   ],
   "execution_count": 9
  },
  {
   "cell_type": "code",
   "metadata": {
    "id": "mysGrIw9ljC2",
    "ExecuteTime": {
     "end_time": "2025-06-19T20:08:21.022569Z",
     "start_time": "2025-06-19T20:08:20.988968Z"
    }
   },
   "source": [
    "print(\"\\n\" + \"=\" * 80)\n",
    "print(\"6. ANÁLISIS DE ANALOGÍAS\")\n",
    "print(\"=\" * 80)\n",
    "\n",
    "def test_analogies(model):\n",
    "\n",
    "    analogies = [\n",
    "        ['man', 'woman', 'boy', 'man:woman :: boy:?'],\n",
    "        ['king', 'queen', 'man', 'king:queen :: man:?'],\n",
    "        ['day', 'night', 'light', 'day:night :: light:?'],\n",
    "        ['love', 'heart', 'music', 'love:heart :: music:?'],\n",
    "        ['young', 'old', 'new', 'young:old :: new:?']\n",
    "    ]\n",
    "\n",
    "    print(\"ANÁLISIS DE ANALOGÍAS\")\n",
    "    print(\"-\" * 60)\n",
    "\n",
    "    for word1, word2, word3, description in analogies:\n",
    "        try:\n",
    "            if all(word in model.wv for word in [word1, word2, word3]):\n",
    "                result = model.wv.most_similar(positive=[word2, word3], negative=[word1], topn=3)\n",
    "\n",
    "                print(f\"\\n{description}\")\n",
    "                print(f\"Respuestas más probables:\")\n",
    "                for i, (word, score) in enumerate(result, 1):\n",
    "                    print(f\"  {i}. {word} (confianza: {score:.4f})\")\n",
    "            else:\n",
    "                missing = [w for w in [word1, word2, word3] if w not in model.wv]\n",
    "                print(f\"\\n{description}\")\n",
    "                print(f\"  ❌ Palabras no encontradas: {missing}\")\n",
    "        except Exception as e:\n",
    "            print(f\"\\n{description}\")\n",
    "            print(f\"  ❌ Error: {str(e)}\")"
   ],
   "outputs": [
    {
     "name": "stdout",
     "output_type": "stream",
     "text": [
      "\n",
      "================================================================================\n",
      "6. ANÁLISIS DE ANALOGÍAS\n",
      "================================================================================\n"
     ]
    }
   ],
   "execution_count": 13
  },
  {
   "cell_type": "code",
   "metadata": {
    "id": "ticoqYD1Z3I7",
    "ExecuteTime": {
     "end_time": "2025-06-19T20:08:28.196433Z",
     "start_time": "2025-06-19T20:08:26.659425Z"
    }
   },
   "source": [
    "\n",
    "print(\"\\n\" + \"=\" * 80)\n",
    "print(\"7. VISUALIZACIÓN DE EMBEDDINGS\")\n",
    "print(\"=\" * 80)\n",
    "\n",
    "def visualize_embeddings_2d(model, words_to_plot=None, method='tsne', max_words=100):\n",
    "    if words_to_plot is None:\n",
    "        all_words = list(model.wv.index_to_key)\n",
    "        words_to_plot = all_words[:max_words]\n",
    "\n",
    "    word_vectors = np.array([model.wv[word] for word in words_to_plot])\n",
    "\n",
    "    if method.lower() == 'pca':\n",
    "        reducer = PCA(n_components=2, random_state=42)\n",
    "        vectors_2d = reducer.fit_transform(word_vectors)\n",
    "        title_suffix = \"PCA\"\n",
    "    else:\n",
    "        reducer = TSNE(n_components=2, random_state=42, perplexity=min(30, len(words_to_plot)-1))\n",
    "        vectors_2d = reducer.fit_transform(word_vectors)\n",
    "        title_suffix = \"t-SNE\"\n",
    "\n",
    "    plt.figure(figsize=(12, 8))\n",
    "    plt.scatter(vectors_2d[:, 0], vectors_2d[:, 1], alpha=0.6, s=50)\n",
    "\n",
    "    interest_words = [w for w in words_of_interest if w in words_to_plot]\n",
    "    for word in interest_words:\n",
    "        if word in words_to_plot:\n",
    "            idx = words_to_plot.index(word)\n",
    "            plt.annotate(word, (vectors_2d[idx, 0], vectors_2d[idx, 1]),\n",
    "                        xytext=(5, 5), textcoords='offset points',\n",
    "                        fontsize=10, fontweight='bold', color='red')\n",
    "\n",
    "    plt.title(f'Visualización de Embeddings usando {title_suffix}')\n",
    "    plt.xlabel(f'{title_suffix} Componente 1')\n",
    "    plt.ylabel(f'{title_suffix} Componente 2')\n",
    "    plt.grid(True, alpha=0.3)\n",
    "    plt.tight_layout()\n",
    "    plt.show()\n",
    "\n",
    "    return vectors_2d, words_to_plot\n",
    "\n",
    "print(\"Generando visualización con t-SNE...\")\n",
    "vectors_tsne, plotted_words = visualize_embeddings_2d(w2v_model, method='tsne', max_words=150)\n",
    "\n",
    "print(\"\\nGenerando visualización con PCA...\")\n",
    "vectors_pca, _ = visualize_embeddings_2d(w2v_model, method='pca', max_words=150)\n"
   ],
   "outputs": [
    {
     "name": "stdout",
     "output_type": "stream",
     "text": [
      "\n",
      "================================================================================\n",
      "7. VISUALIZACIÓN DE EMBEDDINGS\n",
      "================================================================================\n",
      "Generando visualización con t-SNE...\n"
     ]
    },
    {
     "data": {
      "text/plain": [
       "<Figure size 1200x800 with 1 Axes>"
      ],
      "image/png": "[encoded data removed]"
     },
     "metadata": {},
     "output_type": "display_data"
    },
    {
     "name": "stdout",
     "output_type": "stream",
     "text": [
      "\n",
      "Generando visualización con PCA...\n"
     ]
    },
    {
     "data": {
      "text/plain": [
       "<Figure size 1200x800 with 1 Axes>"
      ],
      "image/png": "[encoded data removed]"
     },
     "metadata": {},
     "output_type": "display_data"
    }
   ],
   "execution_count": 14
  },
  {
   "cell_type": "code",
   "metadata": {
    "id": "LEpKubK9XzXN",
    "ExecuteTime": {
     "end_time": "2025-06-19T20:08:37.350238Z",
     "start_time": "2025-06-19T20:08:37.281101Z"
    }
   },
   "source": [
    "\n",
    "print(\"\\n\" + \"=\" * 80)\n",
    "print(\"8. ANÁLISIS DE CLUSTERS SEMÁNTICOS\")\n",
    "print(\"=\" * 80)\n",
    "\n",
    "def analyze_semantic_clusters(model, seed_words_dict):\n",
    "    print(\"ANÁLISIS DE CLUSTERS SEMÁNTICOS\")\n",
    "    print(\"-\" * 60)\n",
    "\n",
    "    for category, seed_words in seed_words_dict.items():\n",
    "        print(f\"\\n📍 CATEGORÍA: {category.upper()}\")\n",
    "\n",
    "        available_seeds = [word for word in seed_words if word in model.wv]\n",
    "\n",
    "        if not available_seeds:\n",
    "            print(f\"   ❌ Ninguna palabra semilla encontrada en el vocabulario\")\n",
    "            continue\n",
    "\n",
    "        print(f\"   Palabras semilla disponibles: {available_seeds}\")\n",
    "\n",
    "        cluster_words = set()\n",
    "        for seed in available_seeds:\n",
    "            similar = model.wv.most_similar(seed, topn=5)\n",
    "            cluster_words.update([word for word, _ in similar])\n",
    "\n",
    "        print(f\"   Cluster extendido ({len(cluster_words)} palabras):\")\n",
    "        cluster_list = sorted(list(cluster_words))\n",
    "        for i in range(0, len(cluster_list), 8):\n",
    "            line_words = cluster_list[i:i+8]\n",
    "            print(f\"     {', '.join(line_words)}\")\n",
    "\n",
    "semantic_categories = {\n",
    "    'emociones': ['love', 'heart', 'soul', 'feeling', 'emotion'],\n",
    "    'música': ['music', 'song', 'sound', 'rock', 'beat'],\n",
    "    'tiempo': ['time', 'day', 'night', 'moment', 'forever'],\n",
    "    'personas': ['man', 'woman', 'girl', 'boy', 'people'],\n",
    "    'lugares': ['home', 'world', 'place', 'street', 'city']\n",
    "}\n",
    "\n",
    "analyze_semantic_clusters(w2v_model, semantic_categories)\n"
   ],
   "outputs": [
    {
     "name": "stdout",
     "output_type": "stream",
     "text": [
      "\n",
      "================================================================================\n",
      "8. ANÁLISIS DE CLUSTERS SEMÁNTICOS\n",
      "================================================================================\n",
      "ANÁLISIS DE CLUSTERS SEMÁNTICOS\n",
      "------------------------------------------------------------\n",
      "\n",
      "📍 CATEGORÍA: EMOCIONES\n",
      "   Palabras semilla disponibles: ['love', 'heart', 'soul', 'feeling', 'emotion']\n",
      "   Cluster extendido (22 palabras):\n",
      "     addiction, burnin', callin', comfortable, demons, dodie, doors, endlessly\n",
      "     god’s, granted, immerse, pleasing, priceless, rollie, rollin', salt\n",
      "     shaped, showin', something's, southern, weirdo, yearnin'\n",
      "\n",
      "📍 CATEGORÍA: MÚSICA\n",
      "   Palabras semilla disponibles: ['music', 'song', 'sound', 'rock', 'beat']\n",
      "   Cluster extendido (24 palabras):\n",
      "     amazing, assistance, aston, bobbin', bros, bust, genie, grown\n",
      "     hangin’, killing, loudest, magazine, martin, roll, roses, seamy\n",
      "     shinin’, singin’, sits, solid, song, steps, tambourine, would've\n",
      "\n",
      "📍 CATEGORÍA: TIEMPO\n",
      "   Palabras semilla disponibles: ['time', 'day', 'night', 'moment', 'forever']\n",
      "   Cluster extendido (25 palabras):\n",
      "     almounds, arise, blackbird, debt, doo, famous, fields, freaking\n",
      "     freeze, happens, legend, locket, mississippi, nah, ok, pines\n",
      "     priceless, process, shiver, singing, strawberry, sunshine, tomorrow’s, uhh\n",
      "     waving\n",
      "\n",
      "📍 CATEGORÍA: PERSONAS\n",
      "   Palabras semilla disponibles: ['man', 'woman', 'girl', 'boy', 'people']\n",
      "   Cluster extendido (25 palabras):\n",
      "     action, barren, bentley, breaks, buzz, careful, choosey, clowns\n",
      "     contagious, daddy's, experience, fashion, field, figures, freaking, hah\n",
      "     hov, momma, named, negative, process, security, shits, showin'\n",
      "     stranger\n",
      "\n",
      "📍 CATEGORÍA: LUGARES\n",
      "   Palabras semilla disponibles: ['home', 'world', 'place', 'street', 'city']\n",
      "   Cluster extendido (25 palabras):\n",
      "     clowns, fathers, floatin', freeway, hee, hidin', homeward, jojo\n",
      "     magic, mo, mothers, paradise, passionate, perfectly, president, round\n",
      "     satellite, ships, sleepy, sounds, spinning, strike, trip, walkin’\n",
      "     york\n"
     ]
    }
   ],
   "execution_count": 15
  },
  {
   "cell_type": "code",
   "metadata": {
    "id": "rIsmMWmjrDHd",
    "ExecuteTime": {
     "end_time": "2025-06-19T20:08:57.864198Z",
     "start_time": "2025-06-19T20:08:56.552318Z"
    }
   },
   "source": [
    "\n",
    "print(\"\\n\" + \"=\" * 80)\n",
    "print(\"9. VISUALIZACIÓN INTERACTIVA\")\n",
    "print(\"=\" * 80)\n",
    "\n",
    "def create_interactive_plot(model, max_words=200):\n",
    "    all_words = list(model.wv.index_to_key)[:max_words]\n",
    "    word_vectors = np.array([model.wv[word] for word in all_words])\n",
    "\n",
    "    tsne = TSNE(n_components=2, random_state=42, perplexity=min(30, len(all_words)-1))\n",
    "    vectors_2d = tsne.fit_transform(word_vectors)\n",
    "\n",
    "    colors = []\n",
    "    for word in all_words:\n",
    "        if word in ['love', 'heart', 'soul', 'feeling']:\n",
    "            colors.append('Emociones')\n",
    "        elif word in ['music', 'song', 'sound', 'rock']:\n",
    "            colors.append('Música')\n",
    "        elif word in ['time', 'day', 'night', 'life']:\n",
    "            colors.append('Tiempo')\n",
    "        elif word in ['man', 'woman', 'girl', 'boy']:\n",
    "            colors.append('Personas')\n",
    "        else:\n",
    "            colors.append('Otras')\n",
    "\n",
    "    fig = px.scatter(\n",
    "        x=vectors_2d[:, 0],\n",
    "        y=vectors_2d[:, 1],\n",
    "        text=all_words,\n",
    "        color=colors,\n",
    "        title=\"Visualización Interactiva de Word Embeddings\",\n",
    "        labels={'x': 't-SNE Componente 1', 'y': 't-SNE Componente 2'},\n",
    "        width=900,\n",
    "        height=700\n",
    "    )\n",
    "\n",
    "    fig.update_traces(\n",
    "        textposition=\"middle right\",\n",
    "        textfont_size=10,\n",
    "        marker_size=8\n",
    "    )\n",
    "\n",
    "    fig.update_layout(\n",
    "        showlegend=True,\n",
    "        font=dict(size=12)\n",
    "    )\n",
    "\n",
    "    print(\"Generando visualización interactiva...\")\n",
    "    fig.show()\n",
    "\n",
    "create_interactive_plot(w2v_model)\n"
   ],
   "outputs": [
    {
     "name": "stdout",
     "output_type": "stream",
     "text": [
      "\n",
      "================================================================================\n",
      "9. VISUALIZACIÓN INTERACTIVA\n",
      "================================================================================\n",
      "Generando visualización interactiva...\n"
     ]
    },
    {
     "data": {
      "application/vnd.plotly.v1+json": {
       "data": [
        {
         "hovertemplate": "color=Otras<br>t-SNE Componente 1=%{x}<br>t-SNE Componente 2=%{y}<br>text=%{text}<extra></extra>",
         "legendgroup": "Otras",
         "marker": {
          "color": "#636efa",
          "symbol": "circle",
          "size": 8
         },
         "mode": "markers+text",
         "name": "Otras",
         "orientation": "v",
         "showlegend": true,
         "text": [
          "the",
          "you",
          "i",
          "to",
          "and",
          "a",
          "me",
          "in",
          "my",
          "it",
          "on",
          "of",
          "that",
          "i'm",
          "all",
          "your",
          "know",
          "for",
          "is",
          "like",
          "they",
          "be",
          "don't",
          "with",
          "just",
          "up",
          "no",
          "but",
          "we",
          "got",
          "when",
          "she",
          "out",
          "so",
          "yeah",
          "now",
          "can",
          "oh",
          "do",
          "what",
          "was",
          "get",
          "one",
          "this",
          "go",
          "have",
          "not",
          "if",
          "down",
          "say",
          "it's",
          "are",
          "from",
          "he",
          "back",
          "see",
          "at",
          "her",
          "never",
          "you're",
          "i’m",
          "been",
          "how",
          "want",
          "need",
          "way",
          "right",
          "well",
          "come",
          "will",
          "here",
          "where",
          "there",
          "gonna",
          "too",
          "as",
          "let",
          "take",
          "think",
          "more",
          "make",
          "his",
          "ain't",
          "good",
          "some",
          "really",
          "had",
          "can't",
          "could",
          "feel",
          "shit",
          "still",
          "tell",
          "then",
          "nah",
          "about",
          "or",
          "i'll",
          "who",
          "don’t",
          "only",
          "things",
          "them",
          "ever",
          "said",
          "look",
          "that's",
          "home",
          "these",
          "hello",
          "by",
          "off",
          "away",
          "going",
          "little",
          "every",
          "did",
          "would",
          "it’s",
          "him",
          "better",
          "money",
          "baby",
          "long",
          "through",
          "hard",
          "around",
          "i've",
          "over",
          "why",
          "much",
          "even",
          "everything",
          "always",
          "should",
          "done",
          "us",
          "people",
          "again",
          "wanna",
          "something",
          "give",
          "hey",
          "nigga",
          "face",
          "am",
          "an",
          "friends",
          "mind",
          "eyes",
          "find",
          "into",
          "keep",
          "'cause",
          "sun",
          "new",
          "you’re",
          "fuck",
          "niggas",
          "thing",
          "ah",
          "nothing",
          "before",
          "world",
          "hold",
          "than",
          "versace",
          "put",
          "stay",
          "call",
          "hear",
          "myself",
          "goin'",
          "high",
          "best",
          "place",
          "may",
          "were",
          "real",
          "light",
          "ain’t",
          "please",
          "gone",
          "god",
          "last",
          "help",
          "made",
          "we're",
          "yes",
          "head",
          "gotta",
          "big"
         ],
         "x": {
          "dtype": "f4",
          "bdata": "e8gAv6i8Xb+ngUq/O7M3vwV5Hr9WuiG/pZZVv7N23L4DzCi/Jiszv1m5Ar8wSc2+NNMnv7mXPb+NYSa//MoUv/8ka78iwjC/WhoAv72hOL+Bs+++6DJavwD3i7+R1JG+lLZDvyTi/74BAT2/QCsnv109Jb/zxkq/P/UIvx6hCr85oY29iM0Uv23Dmb8WS8q+yMaKv9DJR7+uWo6/OtZtv6ZDH76kMV2/wpsNv1xVDb9jliO/tv6Zv7v3Vr96y4G/5hIpPoFesL82ZW+/POyAPkOegT7mgNU93Cetvqqpib+KB9w90ZWuvlzajL/yoTy/clHLPQhIaz5mkFu/zi2ev/oqwr/b1KS/5WoWvyUy+T2BECe/g5CZv6DlS744VQG+sAQZvs7v6b85wmG/1ezmPgD5t7+6Py+/7h+Tv8xnHcBWjJW/cGJBP/3jZ789idS/fjSiPtE+ub9O4vq/iQuzv/7F37+jDqK/X0s3v5S6wL2meHO/KO12vl0ILsBSdwzA5RisvzS++79tG1W+ed6Iv1jKOL/0vfe+ai9wvtlpwL8ff9+/uQgdv1vQbb8/UjK/lSnvvrgRIMDDmI0/3MgHvWhCwz6y05a/ANsAPwHoYT8sAm8+3b/yvxVmBb9XrQY/Y5blv1JvVL+YMoS/lbbVPiahLz/IrifAvBSkPgpTBz8Q2ba90YSvv+PfjL9TOVG/T3zyv+6D/T6zTMi/AuzGvxZdTjyWDdi+tmKwvhLcvr93WIq/qFG2v/nFBsBVKam/YKetPg/V4L6FyVw/EtgjwA7SJMBBb3s+c/Lrv4Z6dD/kQo0/26Cnv9BCmj87a+e/PH+IPaIgnb9c19e/eUG7vzsZDcAxd3y/dBOAPu66kT+P63u/JTcqwGZEGMDTV+2/eOzTvUdSxL+6fv++Fc/vv7TwrL++Cmo/pooUwDowKL9NYg3ANRswP4Fw/b8X/2Y/BCqGvnBbjb/zRBk/Wlm3v9afkD5gIw7AjQHovly5Rr8Heg/AOz6DP+bDuL8zRwPA"
         },
         "xaxis": "x",
         "y": {
          "dtype": "f4",
          "bdata": "p/abv2Yin79BfZy/okChv/7MqL9oIpu/8d+kv1IrnL+giqK/d1Cpv7iuk7/seJ+/BQGpvxERib+WM6+/Epacv759mL/wnLK/2Kekv4Zlib81+qW/ouOuv2DFjL+te4y/H4edvzHVnr8OJbq/VoW9v3ticr+Ahn2/GIupv/csgr9YZ5a/z4Wvvw2NJL9jeZ6/nZmbv2BYer8TD7e/zgi6v5JLh7+PAoy/hW6+v57xVr8e+Ne/2KWwv3oks7+oyam/At2Wv0Ddkr+EKGC/a7VHv5pfSL8I9bK/5ApEv/45yb/JKPm/xG0Xv3QLmb/OnQ2/+E1xv6LZUr8vQFe/xGyPvxZup78YtcS/0nXYv1KpRr8p4vS/oCrov/CP7L/KfwTAv9rbv7IVgr9ERyHAOEvEv5Ov4r85Z/C/hHfSv83KBMCFH9a/TYSwv3UXqL60kIy/9tWyvxkyJL9jy4+/PQVUv1lGwr92leO/3Rvivl8+9L+N8sK/t5wFwA1y4r5DnAbADo1AwGIm4r8FF7y+/FkJwJ9DDMDnXgfA6VwmwLKUhr+e5RTA9OYGwMo5Db2uvR8/ztqUvsuRHb8f4Mu/qPYAP3NEqL6nxxY/AaWdvYaWFsDqHgnAa2TXv9qDJ8Dk2t6/3joHv2tNpr48T0jAKnnCv2PVVb/h5rC/pXHDPg/YCL9yLvM+mE4Nv2+sJcBDkIK+RRgdwN3yTT5HhGO/TmAKwM4DQMAM/0XAHxBLPm8qBb9gjRXAiLyNPhhvBL+pk6A93k0mwDGgdT4kXQXA1Z2wv6M8cr9B7yzA3Zi2vzPFir+5aOS/bgm/PGGafr82FsY+9KCWvXUSj75Tx6G9EYUiwAn1ab43uS7AKqw3vlCIq78CN+U+fssKwAhYs774xjjAOicQvri0QMCNkTrAj0UKwEgruD4vqLO+eht1v3NbRsB7c9C/oP5xv5OTPL6TmkW+yDsrwHuXGsC/Xda/E1YLwIb8OMCUxM+/0kqzPX+PKT+DkI6/CFosvyCQNb+Y0F8+"
         },
         "yaxis": "y",
         "type": "scatter",
         "textfont": {
          "size": 10
         },
         "textposition": "middle right"
        },
        {
         "hovertemplate": "color=Emociones<br>t-SNE Componente 1=%{x}<br>t-SNE Componente 2=%{y}<br>text=%{text}<extra></extra>",
         "legendgroup": "Emociones",
         "marker": {
          "color": "#EF553B",
          "symbol": "circle",
          "size": 8
         },
         "mode": "markers+text",
         "name": "Emociones",
         "orientation": "v",
         "showlegend": true,
         "text": [
          "love",
          "heart"
         ],
         "x": {
          "dtype": "f4",
          "bdata": "cLlnv4scCsA="
         },
         "xaxis": "x",
         "y": {
          "dtype": "f4",
          "bdata": "aZasvx+fIMA="
         },
         "yaxis": "y",
         "type": "scatter",
         "textfont": {
          "size": 10
         },
         "textposition": "middle right"
        },
        {
         "hovertemplate": "color=Personas<br>t-SNE Componente 1=%{x}<br>t-SNE Componente 2=%{y}<br>text=%{text}<extra></extra>",
         "legendgroup": "Personas",
         "marker": {
          "color": "#00cc96",
          "symbol": "circle",
          "size": 8
         },
         "mode": "markers+text",
         "name": "Personas",
         "orientation": "v",
         "showlegend": true,
         "text": [
          "girl",
          "man"
         ],
         "x": {
          "dtype": "f4",
          "bdata": "l25Kv1qOZr4="
         },
         "xaxis": "x",
         "y": {
          "dtype": "f4",
          "bdata": "Daj/vjXcCr8="
         },
         "yaxis": "y",
         "type": "scatter",
         "textfont": {
          "size": 10
         },
         "textposition": "middle right"
        },
        {
         "hovertemplate": "color=Tiempo<br>t-SNE Componente 1=%{x}<br>t-SNE Componente 2=%{y}<br>text=%{text}<extra></extra>",
         "legendgroup": "Tiempo",
         "marker": {
          "color": "#ab63fa",
          "symbol": "circle",
          "size": 8
         },
         "mode": "markers+text",
         "name": "Tiempo",
         "orientation": "v",
         "showlegend": true,
         "text": [
          "time",
          "day",
          "night",
          "life"
         ],
         "x": {
          "dtype": "f4",
          "bdata": "LrYividgWD+e49Y+wt+YOw=="
         },
         "xaxis": "x",
         "y": {
          "dtype": "f4",
          "bdata": "qbfGv/o+GMCieRjA/zb2vw=="
         },
         "yaxis": "y",
         "type": "scatter",
         "textfont": {
          "size": 10
         },
         "textposition": "middle right"
        }
       ],
       "layout": {
        "template": {
         "data": {
          "histogram2dcontour": [
           {
            "type": "histogram2dcontour",
            "colorbar": {
             "outlinewidth": 0,
             "ticks": ""
            },
            "colorscale": [
             [
              0.0,
              "#0d0887"
             ],
             [
              0.1111111111111111,
              "#46039f"
             ],
             [
              0.2222222222222222,
              "#7201a8"
             ],
             [
              0.3333333333333333,
              "#9c179e"
             ],
             [
              0.4444444444444444,
              "#bd3786"
             ],
             [
              0.5555555555555556,
              "#d8576b"
             ],
             [
              0.6666666666666666,
              "#ed7953"
             ],
             [
              0.7777777777777778,
              "#fb9f3a"
             ],
             [
              0.8888888888888888,
              "#fdca26"
             ],
             [
              1.0,
              "#f0f921"
             ]
            ]
           }
          ],
          "choropleth": [
           {
            "type": "choropleth",
            "colorbar": {
             "outlinewidth": 0,
             "ticks": ""
            }
           }
          ],
          "histogram2d": [
           {
            "type": "histogram2d",
            "colorbar": {
             "outlinewidth": 0,
             "ticks": ""
            },
            "colorscale": [
             [
              0.0,
              "#0d0887"
             ],
             [
              0.1111111111111111,
              "#46039f"
             ],
             [
              0.2222222222222222,
              "#7201a8"
             ],
             [
              0.3333333333333333,
              "#9c179e"
             ],
             [
              0.4444444444444444,
              "#bd3786"
             ],
             [
              0.5555555555555556,
              "#d8576b"
             ],
             [
              0.6666666666666666,
              "#ed7953"
             ],
             [
              0.7777777777777778,
              "#fb9f3a"
             ],
             [
              0.8888888888888888,
              "#fdca26"
             ],
             [
              1.0,
              "#f0f921"
             ]
            ]
           }
          ],
          "heatmap": [
           {
            "type": "heatmap",
            "colorbar": {
             "outlinewidth": 0,
             "ticks": ""
            },
            "colorscale": [
             [
              0.0,
              "#0d0887"
             ],
             [
              0.1111111111111111,
              "#46039f"
             ],
             [
              0.2222222222222222,
              "#7201a8"
             ],
             [
              0.3333333333333333,
              "#9c179e"
             ],
             [
              0.4444444444444444,
              "#bd3786"
             ],
             [
              0.5555555555555556,
              "#d8576b"
             ],
             [
              0.6666666666666666,
              "#ed7953"
             ],
             [
              0.7777777777777778,
              "#fb9f3a"
             ],
             [
              0.8888888888888888,
              "#fdca26"
             ],
             [
              1.0,
              "#f0f921"
             ]
            ]
           }
          ],
          "contourcarpet": [
           {
            "type": "contourcarpet",
            "colorbar": {
             "outlinewidth": 0,
             "ticks": ""
            }
           }
          ],
          "contour": [
           {
            "type": "contour",
            "colorbar": {
             "outlinewidth": 0,
             "ticks": ""
            },
            "colorscale": [
             [
              0.0,
              "#0d0887"
             ],
             [
              0.1111111111111111,
              "#46039f"
             ],
             [
              0.2222222222222222,
              "#7201a8"
             ],
             [
              0.3333333333333333,
              "#9c179e"
             ],
             [
              0.4444444444444444,
              "#bd3786"
             ],
             [
              0.5555555555555556,
              "#d8576b"
             ],
             [
              0.6666666666666666,
              "#ed7953"
             ],
             [
              0.7777777777777778,
              "#fb9f3a"
             ],
             [
              0.8888888888888888,
              "#fdca26"
             ],
             [
              1.0,
              "#f0f921"
             ]
            ]
           }
          ],
          "surface": [
           {
            "type": "surface",
            "colorbar": {
             "outlinewidth": 0,
             "ticks": ""
            },
            "colorscale": [
             [
              0.0,
              "#0d0887"
             ],
             [
              0.1111111111111111,
              "#46039f"
             ],
             [
              0.2222222222222222,
              "#7201a8"
             ],
             [
              0.3333333333333333,
              "#9c179e"
             ],
             [
              0.4444444444444444,
              "#bd3786"
             ],
             [
              0.5555555555555556,
              "#d8576b"
             ],
             [
              0.6666666666666666,
              "#ed7953"
             ],
             [
              0.7777777777777778,
              "#fb9f3a"
             ],
             [
              0.8888888888888888,
              "#fdca26"
             ],
             [
              1.0,
              "#f0f921"
             ]
            ]
           }
          ],
          "mesh3d": [
           {
            "type": "mesh3d",
            "colorbar": {
             "outlinewidth": 0,
             "ticks": ""
            }
           }
          ],
          "scatter": [
           {
            "fillpattern": {
             "fillmode": "overlay",
             "size": 10,
             "solidity": 0.2
            },
            "type": "scatter"
           }
          ],
          "parcoords": [
           {
            "type": "parcoords",
            "line": {
             "colorbar": {
              "outlinewidth": 0,
              "ticks": ""
             }
            }
           }
          ],
          "scatterpolargl": [
           {
            "type": "scatterpolargl",
            "marker": {
             "colorbar": {
              "outlinewidth": 0,
              "ticks": ""
             }
            }
           }
          ],
          "bar": [
           {
            "error_x": {
             "color": "#2a3f5f"
            },
            "error_y": {
             "color": "#2a3f5f"
            },
            "marker": {
             "line": {
              "color": "#E5ECF6",
              "width": 0.5
             },
             "pattern": {
              "fillmode": "overlay",
              "size": 10,
              "solidity": 0.2
             }
            },
            "type": "bar"
           }
          ],
          "scattergeo": [
           {
            "type": "scattergeo",
            "marker": {
             "colorbar": {
              "outlinewidth": 0,
              "ticks": ""
             }
            }
           }
          ],
          "scatterpolar": [
           {
            "type": "scatterpolar",
            "marker": {
             "colorbar": {
              "outlinewidth": 0,
              "ticks": ""
             }
            }
           }
          ],
          "histogram": [
           {
            "marker": {
             "pattern": {
              "fillmode": "overlay",
              "size": 10,
              "solidity": 0.2
             }
            },
            "type": "histogram"
           }
          ],
          "scattergl": [
           {
            "type": "scattergl",
            "marker": {
             "colorbar": {
              "outlinewidth": 0,
              "ticks": ""
             }
            }
           }
          ],
          "scatter3d": [
           {
            "type": "scatter3d",
            "line": {
             "colorbar": {
              "outlinewidth": 0,
              "ticks": ""
             }
            },
            "marker": {
             "colorbar": {
              "outlinewidth": 0,
              "ticks": ""
             }
            }
           }
          ],
          "scattermap": [
           {
            "type": "scattermap",
            "marker": {
             "colorbar": {
              "outlinewidth": 0,
              "ticks": ""
             }
            }
           }
          ],
          "scattermapbox": [
           {
            "type": "scattermapbox",
            "marker": {
             "colorbar": {
              "outlinewidth": 0,
              "ticks": ""
             }
            }
           }
          ],
          "scatterternary": [
           {
            "type": "scatterternary",
            "marker": {
             "colorbar": {
              "outlinewidth": 0,
              "ticks": ""
             }
            }
           }
          ],
          "scattercarpet": [
           {
            "type": "scattercarpet",
            "marker": {
             "colorbar": {
              "outlinewidth": 0,
              "ticks": ""
             }
            }
           }
          ],
          "carpet": [
           {
            "aaxis": {
             "endlinecolor": "#2a3f5f",
             "gridcolor": "white",
             "linecolor": "white",
             "minorgridcolor": "white",
             "startlinecolor": "#2a3f5f"
            },
            "baxis": {
             "endlinecolor": "#2a3f5f",
             "gridcolor": "white",
             "linecolor": "white",
             "minorgridcolor": "white",
             "startlinecolor": "#2a3f5f"
            },
            "type": "carpet"
           }
          ],
          "table": [
           {
            "cells": {
             "fill": {
              "color": "#EBF0F8"
             },
             "line": {
              "color": "white"
             }
            },
            "header": {
             "fill": {
              "color": "#C8D4E3"
             },
             "line": {
              "color": "white"
             }
            },
            "type": "table"
           }
          ],
          "barpolar": [
           {
            "marker": {
             "line": {
              "color": "#E5ECF6",
              "width": 0.5
             },
             "pattern": {
              "fillmode": "overlay",
              "size": 10,
              "solidity": 0.2
             }
            },
            "type": "barpolar"
           }
          ],
          "pie": [
           {
            "automargin": true,
            "type": "pie"
           }
          ]
         },
         "layout": {
          "autotypenumbers": "strict",
          "colorway": [
           "#636efa",
           "#EF553B",
           "#00cc96",
           "#ab63fa",
           "#FFA15A",
           "#19d3f3",
           "#FF6692",
           "#B6E880",
           "#FF97FF",
           "#FECB52"
          ],
          "font": {
           "color": "#2a3f5f"
          },
          "hovermode": "closest",
          "hoverlabel": {
           "align": "left"
          },
          "paper_bgcolor": "white",
          "plot_bgcolor": "#E5ECF6",
          "polar": {
           "bgcolor": "#E5ECF6",
           "angularaxis": {
            "gridcolor": "white",
            "linecolor": "white",
            "ticks": ""
           },
           "radialaxis": {
            "gridcolor": "white",
            "linecolor": "white",
            "ticks": ""
           }
          },
          "ternary": {
           "bgcolor": "#E5ECF6",
           "aaxis": {
            "gridcolor": "white",
            "linecolor": "white",
            "ticks": ""
           },
           "baxis": {
            "gridcolor": "white",
            "linecolor": "white",
            "ticks": ""
           },
           "caxis": {
            "gridcolor": "white",
            "linecolor": "white",
            "ticks": ""
           }
          },
          "coloraxis": {
           "colorbar": {
            "outlinewidth": 0,
            "ticks": ""
           }
          },
          "colorscale": {
           "sequential": [
            [
             0.0,
             "#0d0887"
            ],
            [
             0.1111111111111111,
             "#46039f"
            ],
            [
             0.2222222222222222,
             "#7201a8"
            ],
            [
             0.3333333333333333,
             "#9c179e"
            ],
            [
             0.4444444444444444,
             "#bd3786"
            ],
            [
             0.5555555555555556,
             "#d8576b"
            ],
            [
             0.6666666666666666,
             "#ed7953"
            ],
            [
             0.7777777777777778,
             "#fb9f3a"
            ],
            [
             0.8888888888888888,
             "#fdca26"
            ],
            [
             1.0,
             "#f0f921"
            ]
           ],
           "sequentialminus": [
            [
             0.0,
             "#0d0887"
            ],
            [
             0.1111111111111111,
             "#46039f"
            ],
            [
             0.2222222222222222,
             "#7201a8"
            ],
            [
             0.3333333333333333,
             "#9c179e"
            ],
            [
             0.4444444444444444,
             "#bd3786"
            ],
            [
             0.5555555555555556,
             "#d8576b"
            ],
            [
             0.6666666666666666,
             "#ed7953"
            ],
            [
             0.7777777777777778,
             "#fb9f3a"
            ],
            [
             0.8888888888888888,
             "#fdca26"
            ],
            [
             1.0,
             "#f0f921"
            ]
           ],
           "diverging": [
            [
             0,
             "#8e0152"
            ],
            [
             0.1,
             "#c51b7d"
            ],
            [
             0.2,
             "#de77ae"
            ],
            [
             0.3,
             "#f1b6da"
            ],
            [
             0.4,
             "#fde0ef"
            ],
            [
             0.5,
             "#f7f7f7"
            ],
            [
             0.6,
             "#e6f5d0"
            ],
            [
             0.7,
             "#b8e186"
            ],
            [
             0.8,
             "#7fbc41"
            ],
            [
             0.9,
             "#4d9221"
            ],
            [
             1,
             "#276419"
            ]
           ]
          },
          "xaxis": {
           "gridcolor": "white",
           "linecolor": "white",
           "ticks": "",
           "title": {
            "standoff": 15
           },
           "zerolinecolor": "white",
           "automargin": true,
           "zerolinewidth": 2
          },
          "yaxis": {
           "gridcolor": "white",
           "linecolor": "white",
           "ticks": "",
           "title": {
            "standoff": 15
           },
           "zerolinecolor": "white",
           "automargin": true,
           "zerolinewidth": 2
          },
          "scene": {
           "xaxis": {
            "backgroundcolor": "#E5ECF6",
            "gridcolor": "white",
            "linecolor": "white",
            "showbackground": true,
            "ticks": "",
            "zerolinecolor": "white",
            "gridwidth": 2
           },
           "yaxis": {
            "backgroundcolor": "#E5ECF6",
            "gridcolor": "white",
            "linecolor": "white",
            "showbackground": true,
            "ticks": "",
            "zerolinecolor": "white",
            "gridwidth": 2
           },
           "zaxis": {
            "backgroundcolor": "#E5ECF6",
            "gridcolor": "white",
            "linecolor": "white",
            "showbackground": true,
            "ticks": "",
            "zerolinecolor": "white",
            "gridwidth": 2
           }
          },
          "shapedefaults": {
           "line": {
            "color": "#2a3f5f"
           }
          },
          "annotationdefaults": {
           "arrowcolor": "#2a3f5f",
           "arrowhead": 0,
           "arrowwidth": 1
          },
          "geo": {
           "bgcolor": "white",
           "landcolor": "#E5ECF6",
           "subunitcolor": "white",
           "showland": true,
           "showlakes": true,
           "lakecolor": "white"
          },
          "title": {
           "x": 0.05
          },
          "mapbox": {
           "style": "light"
          }
         }
        },
        "xaxis": {
         "anchor": "y",
         "domain": [
          0.0,
          1.0
         ],
         "title": {
          "text": "t-SNE Componente 1"
         }
        },
        "yaxis": {
         "anchor": "x",
         "domain": [
          0.0,
          1.0
         ],
         "title": {
          "text": "t-SNE Componente 2"
         }
        },
        "legend": {
         "title": {
          "text": "color"
         },
         "tracegroupgap": 0
        },
        "title": {
         "text": "Visualización Interactiva de Word Embeddings"
        },
        "height": 700,
        "width": 900,
        "font": {
         "size": 12
        },
        "showlegend": true
       },
       "config": {
        "plotlyServerURL": "https://plot.ly"
       }
      }
     },
     "metadata": {},
     "output_type": "display_data"
    }
   ],
   "execution_count": 16
  },
  {
   "cell_type": "code",
   "metadata": {
    "id": "CHepi_DGrbhq",
    "ExecuteTime": {
     "end_time": "2025-06-19T20:09:02.493799Z",
     "start_time": "2025-06-19T20:09:02.479148Z"
    }
   },
   "source": [
    "\n",
    "print(\"\\n\" + \"=\" * 80)\n",
    "print(\"10. EVALUACIÓN Y MÉTRICAS DEL MODELO\")\n",
    "print(\"=\" * 80)\n",
    "\n",
    "def evaluate_model(model):\n",
    "    print(\"MÉTRICAS DEL MODELO\")\n",
    "    print(\"-\" * 40)\n",
    "\n",
    "    vocab_size = len(model.wv.index_to_key)\n",
    "    vector_dim = model.vector_size\n",
    "\n",
    "    print(f\"📊 Estadísticas básicas:\")\n",
    "    print(f\"   • Tamaño del vocabulario: {vocab_size:,}\")\n",
    "    print(f\"   • Dimensión de vectores: {vector_dim}\")\n",
    "    print(f\"   • Épocas de entrenamiento: 50\")\n",
    "    print(f\"   • Ventana de contexto: {model.window}\")\n",
    "\n",
    "    word_counts = [model.wv.get_vecattr(word, \"count\") for word in model.wv.index_to_key]\n",
    "\n",
    "    print(f\"\\n📈 Distribución de frecuencias:\")\n",
    "    print(f\"   • Palabra más frecuente: '{model.wv.index_to_key[0]}' ({max(word_counts)} apariciones)\")\n",
    "    print(f\"   • Mediana de frecuencias: {np.median(word_counts):.1f}\")\n",
    "    print(f\"   • Palabras con freq >= 10: {sum(1 for c in word_counts if c >= 10)}\")\n",
    "    print(f\"   • Palabras con freq >= 50: {sum(1 for c in word_counts if c >= 50)}\")\n",
    "\n",
    "    test_pairs = [\n",
    "        ('love', 'heart'),\n",
    "        ('music', 'song'),\n",
    "        ('day', 'night'),\n",
    "        ('man', 'woman')\n",
    "    ]\n",
    "\n",
    "    print(f\"\\n🔗 Coherencia semántica (similitudes):\")\n",
    "    for word1, word2 in test_pairs:\n",
    "        if word1 in model.wv and word2 in model.wv:\n",
    "            similarity = model.wv.similarity(word1, word2)\n",
    "            print(f\"   • {word1} ↔ {word2}: {similarity:.4f}\")\n",
    "        else:\n",
    "            print(f\"   • {word1} ↔ {word2}: No disponible\")\n",
    "\n",
    "evaluate_model(w2v_model)\n"
   ],
   "outputs": [
    {
     "name": "stdout",
     "output_type": "stream",
     "text": [
      "\n",
      "================================================================================\n",
      "10. EVALUACIÓN Y MÉTRICAS DEL MODELO\n",
      "================================================================================\n",
      "MÉTRICAS DEL MODELO\n",
      "----------------------------------------\n",
      "📊 Estadísticas básicas:\n",
      "   • Tamaño del vocabulario: 2,947\n",
      "   • Dimensión de vectores: 200\n",
      "   • Épocas de entrenamiento: 50\n",
      "   • Ventana de contexto: 5\n",
      "\n",
      "📈 Distribución de frecuencias:\n",
      "   • Palabra más frecuente: 'the' (4498 apariciones)\n",
      "   • Mediana de frecuencias: 7.0\n",
      "   • Palabras con freq >= 10: 1149\n",
      "   • Palabras con freq >= 50: 306\n",
      "\n",
      "🔗 Coherencia semántica (similitudes):\n",
      "   • love ↔ heart: 0.1713\n",
      "   • music ↔ song: 0.1885\n",
      "   • day ↔ night: 0.2753\n",
      "   • man ↔ woman: 0.1315\n"
     ]
    }
   ],
   "execution_count": 17
  },
  {
   "metadata": {},
   "cell_type": "markdown",
   "source": "CONCLUSIONES"
  },
  {
   "metadata": {},
   "cell_type": "markdown",
   "source": [
    "1. CALIDAD DEL MODELO:\n",
    "   • El modelo Word2Vec entrenado en letras de canciones de múltiples artistas\n",
    "     logró capturar relaciones semánticas coherentes entre palabras.\n",
    "   • Las similitudes encontradas reflejan el contexto musical y emocional\n",
    "     característico de las letras de canciones.\n",
    "\n",
    "2. PATRONES SEMÁNTICOS IDENTIFICADOS:\n",
    "   • Agrupación de emociones: 'love', 'heart', 'soul' aparecen relacionadas\n",
    "   • Conceptos musicales: 'music', 'song', 'sound' forman clusters coherentes\n",
    "   • Relaciones temporales: 'day', 'night', 'time' muestran proximidad semántica\n",
    "   • Personas y roles: 'man', 'woman', 'girl', 'boy' se agrupan naturalmente\n",
    "\n",
    "3. VISUALIZACIONES:\n",
    "   • Las representaciones 2D (PCA y t-SNE) revelan clusters semánticos claros\n",
    "   • Palabras temáticamente relacionadas tienden a agruparse espacialmente\n",
    "   • La reducción dimensional preserva relaciones semánticas importantes\n",
    "\n",
    "4. FORTALEZAS DEL ENFOQUE:\n",
    "   • Los embeddings capturan el estilo y vocabulario específico del dominio musical\n",
    "   • Las analogías funcionan coherentemente dentro del contexto lírico\n",
    "   • El modelo muestra sensibilidad a diferentes géneros musicales representados\n",
    "\n",
    "5. LIMITACIONES OBSERVADAS:\n",
    "   • Vocabulario limitado por el corpus específico de letras de canciones\n",
    "   • Algunas palabras poco frecuentes no están bien representadas\n",
    "   • Sesgos potenciales hacia géneros musicales más representados en el dataset\n",
    "\n",
    "6. APLICACIONES POTENCIALES:\n",
    "   • Recomendación de canciones basada en similitud semántica\n",
    "   • Análisis de sentimientos en letras musicales\n",
    "   • Generación automática de letras con coherencia temática\n",
    "   • Clasificación automática de géneros musicales por contenido lírico"
   ]
  }
 ],
 "metadata": {
  "colab": {
   "collapsed_sections": [],
   "provenance": []
  },
  "kernelspec": {
   "display_name": "Python 3 (ipykernel)",
   "language": "python",
   "name": "python3"
  },
  "language_info": {
   "codemirror_mode": {
    "name": "ipython",
    "version": 3
   },
   "file_extension": ".py",
   "mimetype": "text/x-python",
   "name": "python",
   "nbconvert_exporter": "python",
   "pygments_lexer": "ipython3",
   "version": "3.10.6"
  }
 },
 "nbformat": 4,
 "nbformat_minor": 4
}
